{
 "cells": [
  {
   "cell_type": "markdown",
   "metadata": {
    "vscode": {
     "languageId": "plaintext"
    }
   },
   "source": [
    "``` c\n",
    "#define WORD_SIZE 32\n",
    "#define WORD_NB 1\n",
    "#define TARGET_WEIGHT 6\n",
    "#define ITER 10\n",
    "#define MAX_XOR 5\n",
    "```\n",
    "\n",
    "``` text\n",
    "M = 29046061 I = 0f9abb57\n",
    "minimum weight found = 10\n",
    "Operations:  ( 0) [00000001] (11) [00000801] (13) [01002001] ( 5) [21042021] (14) [29046061]\n",
    "```"
   ]
  },
  {
   "cell_type": "code",
   "execution_count": 3,
   "metadata": {},
   "outputs": [
    {
     "name": "stdout",
     "output_type": "stream",
     "text": [
      "100001101100101010101010101001010100111001001000011101111101110110001110101111001101011100101100001001111011111111000010010001\n"
     ]
    }
   ],
   "source": [
    "M = 0x21b2aaa953921df763af35cb09eff091\n",
    "bin_M = bin(M)[2:]\n",
    "print(bin_M)"
   ]
  },
  {
   "cell_type": "code",
   "execution_count": 7,
   "metadata": {},
   "outputs": [
    {
     "name": "stdout",
     "output_type": "stream",
     "text": [
      "1101110110011010100101101\n",
      "15\n"
     ]
    }
   ],
   "source": [
    "M = 29046061\n",
    "bin_M = bin(M)[2:]\n",
    "count_of_ones = bin_M.count('1')\n",
    "print(bin_M)\n",
    "print(count_of_ones)"
   ]
  }
 ],
 "metadata": {
  "kernelspec": {
   "display_name": "SageMath 10.3",
   "language": "sage",
   "name": "sagemath"
  },
  "language_info": {
   "codemirror_mode": {
    "name": "ipython",
    "version": 3
   },
   "file_extension": ".py",
   "mimetype": "text/x-python",
   "name": "python",
   "nbconvert_exporter": "python",
   "pygments_lexer": "ipython3",
   "version": "3.12.4"
  }
 },
 "nbformat": 4,
 "nbformat_minor": 2
}
